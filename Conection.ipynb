{
  "nbformat": 4,
  "nbformat_minor": 0,
  "metadata": {
    "colab": {
      "provenance": [],
      "authorship_tag": "ABX9TyOfzikaFxvdxGlXiB+nmydI",
      "include_colab_link": true
    },
    "kernelspec": {
      "name": "python3",
      "display_name": "Python 3"
    },
    "language_info": {
      "name": "python"
    }
  },
  "cells": [
    {
      "cell_type": "markdown",
      "metadata": {
        "id": "view-in-github",
        "colab_type": "text"
      },
      "source": [
        "<a href=\"https://colab.research.google.com/github/Javsk891/Using-ibm_db-SQL-Python/blob/main/Conection.ipynb\" target=\"_parent\"><img src=\"https://colab.research.google.com/assets/colab-badge.svg\" alt=\"Open In Colab\"/></a>"
      ]
    },
    {
      "cell_type": "code",
      "source": [
        "!pip install ibm_db"
      ],
      "metadata": {
        "colab": {
          "base_uri": "https://localhost:8080/"
        },
        "id": "OVwfxvj1Y5x3",
        "outputId": "b6669034-a6fa-4aec-d5ee-2d09b8761e00"
      },
      "execution_count": null,
      "outputs": [
        {
          "output_type": "stream",
          "name": "stdout",
          "text": [
            "Looking in indexes: https://pypi.org/simple, https://us-python.pkg.dev/colab-wheels/public/simple/\n",
            "Collecting ibm_db\n",
            "  Downloading ibm_db-3.1.4.tar.gz (1.4 MB)\n",
            "\u001b[2K     \u001b[90m━━━━━━━━━━━━━━━━━━━━━━━━━━━━━━━━━━━━━━━━\u001b[0m \u001b[32m1.4/1.4 MB\u001b[0m \u001b[31m38.6 MB/s\u001b[0m eta \u001b[36m0:00:00\u001b[0m\n",
            "\u001b[?25h  Installing build dependencies ... \u001b[?25l\u001b[?25hdone\n",
            "  Getting requirements to build wheel ... \u001b[?25l\u001b[?25hdone\n",
            "  Installing backend dependencies ... \u001b[?25l\u001b[?25hdone\n",
            "  Preparing metadata (pyproject.toml) ... \u001b[?25l\u001b[?25hdone\n",
            "Building wheels for collected packages: ibm_db\n",
            "  Building wheel for ibm_db (pyproject.toml) ... \u001b[?25l\u001b[?25hdone\n",
            "  Created wheel for ibm_db: filename=ibm_db-3.1.4-cp38-cp38-linux_x86_64.whl size=41500461 sha256=21a38b6060cf1991e6d85e231708eb53b4a68fc1eea218c19f286d68844e4de4\n",
            "  Stored in directory: /root/.cache/pip/wheels/29/8a/54/6483abefac5e30f2897d05de40bfd83a31b23f2c02182edb6c\n",
            "Successfully built ibm_db\n",
            "Installing collected packages: ibm_db\n",
            "Successfully installed ibm_db-3.1.4\n"
          ]
        }
      ]
    },
    {
      "cell_type": "code",
      "source": [
        "import ibm_db"
      ],
      "metadata": {
        "id": "ei8wSru7ZkU0"
      },
      "execution_count": null,
      "outputs": []
    },
    {
      "cell_type": "code",
      "source": [
        "dsn_hostname = \"19af6446-6171-4641-8aba-9dcff8e1b6ff.c1ogj3sd0tgtu0lqde00.databases.appdomain.cloud\"\n",
        "dsn_uid = \"rkr92661\"        \n",
        "dsn_pwd = \"jYMcBfEia3pTGzaB\"\n",
        "\n",
        "dsn_driver = \"{IBM DB2 ODBC DRIVER}\"\n",
        "dsn_database = \"bludb\"      \n",
        "dsn_port = \"30699\"           \n",
        "dsn_protocol = \"TCPIP\"      \n",
        "dsn_security = \"SSL\"                     "
      ],
      "metadata": {
        "id": "nDTeagaNZy3_"
      },
      "execution_count": null,
      "outputs": []
    },
    {
      "cell_type": "code",
      "source": [
        "dsn = (\n",
        "    \"DRIVER={0};\"\n",
        "    \"DATABASE={1};\"\n",
        "    \"HOSTNAME={2};\"\n",
        "    \"PORT={3};\"\n",
        "    \"PROTOCOL={4};\"\n",
        "    \"UID={5};\"\n",
        "    \"PWD={6};\"\n",
        "    \"SECURITY={7};\").format(dsn_driver, dsn_database, dsn_hostname, dsn_port, dsn_protocol, dsn_uid, dsn_pwd,dsn_security)\n"
      ],
      "metadata": {
        "id": "owvz-quGbJo0"
      },
      "execution_count": null,
      "outputs": []
    },
    {
      "cell_type": "code",
      "source": [
        "print(dsn)"
      ],
      "metadata": {
        "colab": {
          "base_uri": "https://localhost:8080/"
        },
        "id": "pFzammqzbUtU",
        "outputId": "3096e572-6899-45ff-b604-2f89b2e53a62"
      },
      "execution_count": null,
      "outputs": [
        {
          "output_type": "stream",
          "name": "stdout",
          "text": [
            "DRIVER={IBM DB2 ODBC DRIVER};DATABASE=bludb;HOSTNAME=19af6446-6171-4641-8aba-9dcff8e1b6ff.c1ogj3sd0tgtu0lqde00.databases.appdomain.cloud;PORT=30699;PROTOCOL=TCPIP;UID=rkr92661;PWD=jYMcBfEia3pTGzaB;SECURITY=SSL;\n"
          ]
        }
      ]
    },
    {
      "cell_type": "code",
      "source": [
        "try:\n",
        "    conn = ibm_db.connect(dsn, \"\", \"\")\n",
        "    print (\"Connected to database: \", dsn_database, \"as user: \", dsn_uid, \"on host: \", dsn_hostname)\n",
        "\n",
        "except:\n",
        "    print (\"Unable to connect: \", ibm_db.conn_errormsg() )\n"
      ],
      "metadata": {
        "colab": {
          "base_uri": "https://localhost:8080/"
        },
        "id": "753-uEs3bauP",
        "outputId": "0c92ee49-fbde-4b13-a54f-11de11af6b7b"
      },
      "execution_count": null,
      "outputs": [
        {
          "output_type": "stream",
          "name": "stdout",
          "text": [
            "Connected to database:  bludb as user:  rkr92661 on host:  19af6446-6171-4641-8aba-9dcff8e1b6ff.c1ogj3sd0tgtu0lqde00.databases.appdomain.cloud\n"
          ]
        }
      ]
    },
    {
      "cell_type": "code",
      "source": [
        "#Retrieve Metadata for the Database Server\n",
        "server = ibm_db.server_info(conn)\n",
        "\n",
        "print (\"DBMS_NAME: \", server.DBMS_NAME)\n",
        "print (\"DBMS_VER:  \", server.DBMS_VER)\n",
        "print (\"DB_NAME:   \", server.DB_NAME)"
      ],
      "metadata": {
        "colab": {
          "base_uri": "https://localhost:8080/"
        },
        "id": "jPrmNpFKbkKU",
        "outputId": "45fd60cc-7cb0-4c05-f3e7-f20750a31de8"
      },
      "execution_count": null,
      "outputs": [
        {
          "output_type": "stream",
          "name": "stdout",
          "text": [
            "DBMS_NAME:  DB2/LINUXX8664\n",
            "DBMS_VER:   11.05.0800\n",
            "DB_NAME:    BLUDB\n"
          ]
        }
      ]
    },
    {
      "cell_type": "code",
      "source": [
        "#Close the connection\n",
        "ibm_db.close(conn)"
      ],
      "metadata": {
        "colab": {
          "base_uri": "https://localhost:8080/"
        },
        "id": "D3XkanywbnXb",
        "outputId": "c6eaebd2-3763-4810-d3fe-465b0e5d0b7e"
      },
      "execution_count": null,
      "outputs": [
        {
          "output_type": "execute_result",
          "data": {
            "text/plain": [
              "True"
            ]
          },
          "metadata": {},
          "execution_count": 60
        }
      ]
    },
    {
      "cell_type": "code",
      "source": [
        "# Task 7: Retrieve data into Pandas \n",
        "import pandas\n",
        "import ibm_db_dbi"
      ],
      "metadata": {
        "id": "UVNGiDgip3do"
      },
      "execution_count": null,
      "outputs": []
    },
    {
      "cell_type": "code",
      "source": [
        "#Install & load sqlite3\n",
        "#!pip install sqlite3  ##Uncomment the code to install sqlite3\n",
        "import sqlite3"
      ],
      "metadata": {
        "id": "eeY8dP5qqqIQ"
      },
      "execution_count": null,
      "outputs": []
    },
    {
      "cell_type": "code",
      "source": [
        "# Connecting to sqlite\n",
        "# connection object\n",
        "conn = sqlite3.connect('CENSUS_DATA.db')"
      ],
      "metadata": {
        "id": "d9Af60hwqpE2"
      },
      "execution_count": null,
      "outputs": []
    },
    {
      "cell_type": "code",
      "source": [
        "# cursor object\n",
        "cursor_obj = conn.cursor()"
      ],
      "metadata": {
        "id": "VwGdYraQrSNW"
      },
      "execution_count": null,
      "outputs": []
    },
    {
      "cell_type": "code",
      "source": [
        "cursor_obj.execute(\"DROP TABLE IF EXISTS CENSUS_DATA\")"
      ],
      "metadata": {
        "colab": {
          "base_uri": "https://localhost:8080/"
        },
        "id": "oGWslYpGrXJr",
        "outputId": "be5ee162-af14-46a9-f7b6-2048aac17ce9"
      },
      "execution_count": null,
      "outputs": [
        {
          "output_type": "execute_result",
          "data": {
            "text/plain": [
              "<sqlite3.Cursor at 0x7fc6a659c880>"
            ]
          },
          "metadata": {},
          "execution_count": 70
        }
      ]
    },
    {
      "cell_type": "code",
      "source": [
        "\n",
        "import csv, sqlite3\n",
        "\n",
        "con = sqlite3.connect(\"SQLiteMagic.db\")\n",
        "cur = con.cursor()"
      ],
      "metadata": {
        "id": "0IImULU0um4E"
      },
      "execution_count": null,
      "outputs": []
    },
    {
      "cell_type": "code",
      "source": [
        "%load_ext sql"
      ],
      "metadata": {
        "colab": {
          "base_uri": "https://localhost:8080/"
        },
        "id": "1GBfD9bkun-c",
        "outputId": "9a9b6947-434d-4cd0-e08a-d4a097bf4167"
      },
      "execution_count": null,
      "outputs": [
        {
          "output_type": "stream",
          "name": "stdout",
          "text": [
            "The sql extension is already loaded. To reload it, use:\n",
            "  %reload_ext sql\n"
          ]
        }
      ]
    },
    {
      "cell_type": "code",
      "source": [
        "%sql sqlite:///SQLiteMagic.db"
      ],
      "metadata": {
        "colab": {
          "base_uri": "https://localhost:8080/",
          "height": 36
        },
        "id": "JyNgG9vtuquo",
        "outputId": "c84c55ab-d07d-4f81-ca42-f99f41fa1152"
      },
      "execution_count": null,
      "outputs": [
        {
          "output_type": "execute_result",
          "data": {
            "text/plain": [
              "'Connected: @SQLiteMagic.db'"
            ],
            "application/vnd.google.colaboratory.intrinsic+json": {
              "type": "string"
            }
          },
          "metadata": {},
          "execution_count": 76
        }
      ]
    },
    {
      "cell_type": "code",
      "source": [
        "import pandas\n",
        "chicago_schools_data = pandas.read_csv('https://data.cityofchicago.org/resource/9xs2-f89t.csv')\n",
        "%sql PERSIST chicago_schools_data"
      ],
      "metadata": {
        "colab": {
          "base_uri": "https://localhost:8080/",
          "height": 53
        },
        "id": "MeLy77piupbH",
        "outputId": "d0cc58af-3709-45af-ebe1-6c36e995506f"
      },
      "execution_count": null,
      "outputs": [
        {
          "output_type": "stream",
          "name": "stdout",
          "text": [
            " * sqlite:///SQLiteMagic.db\n"
          ]
        },
        {
          "output_type": "execute_result",
          "data": {
            "text/plain": [
              "'Persisted chicago_schools_data'"
            ],
            "application/vnd.google.colaboratory.intrinsic+json": {
              "type": "string"
            }
          },
          "metadata": {},
          "execution_count": 132
        }
      ]
    },
    {
      "cell_type": "code",
      "source": [
        "census_data = pandas.read_csv('https://data.cityofchicago.org/resource/kn9c-c2s2.csv')\n",
        "%sql PERSIST census_data"
      ],
      "metadata": {
        "colab": {
          "base_uri": "https://localhost:8080/",
          "height": 53
        },
        "id": "AhJ2o44dwwCy",
        "outputId": "6fb873da-501c-44eb-883f-227a6926fc20"
      },
      "execution_count": null,
      "outputs": [
        {
          "output_type": "stream",
          "name": "stdout",
          "text": [
            " * sqlite:///SQLiteMagic.db\n"
          ]
        },
        {
          "output_type": "execute_result",
          "data": {
            "text/plain": [
              "'Persisted census_data'"
            ],
            "application/vnd.google.colaboratory.intrinsic+json": {
              "type": "string"
            }
          },
          "metadata": {},
          "execution_count": 82
        }
      ]
    },
    {
      "cell_type": "code",
      "source": [
        "crime_data = pandas.read_csv('https://data.cityofchicago.org/resource/ijzp-q8t2.csv')\n",
        "%sql PERSIST crime_data"
      ],
      "metadata": {
        "colab": {
          "base_uri": "https://localhost:8080/",
          "height": 53
        },
        "id": "eHBFM3smyIw1",
        "outputId": "10a3be83-df8c-4db3-85f6-f31a46afcd25"
      },
      "execution_count": null,
      "outputs": [
        {
          "output_type": "stream",
          "name": "stdout",
          "text": [
            " * sqlite:///SQLiteMagic.db\n"
          ]
        },
        {
          "output_type": "execute_result",
          "data": {
            "text/plain": [
              "'Persisted crime_data'"
            ],
            "application/vnd.google.colaboratory.intrinsic+json": {
              "type": "string"
            }
          },
          "metadata": {},
          "execution_count": 83
        }
      ]
    },
    {
      "cell_type": "markdown",
      "source": [
        "#Problem 1\n",
        "Find the toltal number of crimes recorded in the CRIME table "
      ],
      "metadata": {
        "id": "Ff5FYM-OdhAE"
      }
    },
    {
      "cell_type": "code",
      "source": [
        "%sql SELECT COUNT(*) FROM crime_data"
      ],
      "metadata": {
        "colab": {
          "base_uri": "https://localhost:8080/",
          "height": 96
        },
        "id": "c3fa8aJGwIl9",
        "outputId": "4d6bd25a-989c-4934-fbb8-966b62dcbbcd"
      },
      "execution_count": 219,
      "outputs": [
        {
          "output_type": "stream",
          "name": "stdout",
          "text": [
            " * sqlite:///SQLiteMagic.db\n",
            "Done.\n"
          ]
        },
        {
          "output_type": "execute_result",
          "data": {
            "text/plain": [
              "[(1000,)]"
            ],
            "text/html": [
              "<table>\n",
              "    <thead>\n",
              "        <tr>\n",
              "            <th>COUNT(*)</th>\n",
              "        </tr>\n",
              "    </thead>\n",
              "    <tbody>\n",
              "        <tr>\n",
              "            <td>1000</td>\n",
              "        </tr>\n",
              "    </tbody>\n",
              "</table>"
            ]
          },
          "metadata": {},
          "execution_count": 219
        }
      ]
    },
    {
      "cell_type": "code",
      "source": [
        "#%sql SELECT * FROM CRIME_DATA"
      ],
      "metadata": {
        "id": "opq3VzCT1QPp"
      },
      "execution_count": 218,
      "outputs": []
    },
    {
      "cell_type": "code",
      "source": [
        "#%sql SELECT * FROM census_data"
      ],
      "metadata": {
        "id": "-OgmCi_qNNtT"
      },
      "execution_count": 215,
      "outputs": []
    },
    {
      "cell_type": "code",
      "source": [
        "#%sql SELECT * FROM chicago_schools_data"
      ],
      "metadata": {
        "id": "J-vSa4vYOAt2"
      },
      "execution_count": 217,
      "outputs": []
    },
    {
      "cell_type": "markdown",
      "source": [
        "#Problem 2\n",
        "List community areas with per capita income less than 11000"
      ],
      "metadata": {
        "id": "MgJsaV_xdFsB"
      }
    },
    {
      "cell_type": "code",
      "source": [
        "%sql SELECT COMMUNITY_AREA_NAME FROM CENSUS_DATA WHERE PER_CAPITA_INCOME_ < 11000\n"
      ],
      "metadata": {
        "colab": {
          "base_uri": "https://localhost:8080/",
          "height": 158
        },
        "id": "mxsgLJMWCahP",
        "outputId": "42eab859-3f0b-4d71-ce78-cb080302b717"
      },
      "execution_count": null,
      "outputs": [
        {
          "output_type": "stream",
          "name": "stdout",
          "text": [
            " * sqlite:///SQLiteMagic.db\n",
            "Done.\n"
          ]
        },
        {
          "output_type": "execute_result",
          "data": {
            "text/plain": [
              "[('West Garfield Park',),\n",
              " ('South Lawndale',),\n",
              " ('Fuller Park',),\n",
              " ('Riverdale',)]"
            ],
            "text/html": [
              "<table>\n",
              "    <thead>\n",
              "        <tr>\n",
              "            <th>community_area_name</th>\n",
              "        </tr>\n",
              "    </thead>\n",
              "    <tbody>\n",
              "        <tr>\n",
              "            <td>West Garfield Park</td>\n",
              "        </tr>\n",
              "        <tr>\n",
              "            <td>South Lawndale</td>\n",
              "        </tr>\n",
              "        <tr>\n",
              "            <td>Fuller Park</td>\n",
              "        </tr>\n",
              "        <tr>\n",
              "            <td>Riverdale</td>\n",
              "        </tr>\n",
              "    </tbody>\n",
              "</table>"
            ]
          },
          "metadata": {},
          "execution_count": 114
        }
      ]
    },
    {
      "cell_type": "markdown",
      "source": [
        "#Problem 3\n",
        "List all case numbers for crimes involving minors? "
      ],
      "metadata": {
        "id": "bP-4GI2Cc6XR"
      }
    },
    {
      "cell_type": "code",
      "source": [
        "%sql SELECT Case_Number FROM crime_data WHERE description LIKE '%minor%'"
      ],
      "metadata": {
        "colab": {
          "base_uri": "https://localhost:8080/",
          "height": 242
        },
        "id": "qo48q1bDH0VK",
        "outputId": "c1ca6450-0e4b-4bdd-9652-d93129b93b1f"
      },
      "execution_count": null,
      "outputs": [
        {
          "output_type": "stream",
          "name": "stdout",
          "text": [
            " * sqlite:///SQLiteMagic.db\n",
            "Done.\n"
          ]
        },
        {
          "output_type": "execute_result",
          "data": {
            "text/plain": [
              "[('JG116575',),\n",
              " ('JG116545',),\n",
              " ('JG116520',),\n",
              " ('JG116384',),\n",
              " ('JG116177',),\n",
              " ('JG115669',),\n",
              " ('JG115654',),\n",
              " ('JG115444',)]"
            ],
            "text/html": [
              "<table>\n",
              "    <thead>\n",
              "        <tr>\n",
              "            <th>case_number</th>\n",
              "        </tr>\n",
              "    </thead>\n",
              "    <tbody>\n",
              "        <tr>\n",
              "            <td>JG116575</td>\n",
              "        </tr>\n",
              "        <tr>\n",
              "            <td>JG116545</td>\n",
              "        </tr>\n",
              "        <tr>\n",
              "            <td>JG116520</td>\n",
              "        </tr>\n",
              "        <tr>\n",
              "            <td>JG116384</td>\n",
              "        </tr>\n",
              "        <tr>\n",
              "            <td>JG116177</td>\n",
              "        </tr>\n",
              "        <tr>\n",
              "            <td>JG115669</td>\n",
              "        </tr>\n",
              "        <tr>\n",
              "            <td>JG115654</td>\n",
              "        </tr>\n",
              "        <tr>\n",
              "            <td>JG115444</td>\n",
              "        </tr>\n",
              "    </tbody>\n",
              "</table>"
            ]
          },
          "metadata": {},
          "execution_count": 122
        }
      ]
    },
    {
      "cell_type": "markdown",
      "source": [
        "#Problem 4\n",
        "List all Kidnapping crimes involving a child?"
      ],
      "metadata": {
        "id": "5KQ9cMkVcsd5"
      }
    },
    {
      "cell_type": "code",
      "source": [
        "%sql SELECT Case_Number FROM crime_data WHERE description LIKE '%child%'"
      ],
      "metadata": {
        "colab": {
          "base_uri": "https://localhost:8080/",
          "height": 179
        },
        "id": "pj_F9-F5Lo-B",
        "outputId": "8ec62b1b-3218-42d9-c018-f6120db4f957"
      },
      "execution_count": null,
      "outputs": [
        {
          "output_type": "stream",
          "name": "stdout",
          "text": [
            " * sqlite:///SQLiteMagic.db\n",
            "Done.\n"
          ]
        },
        {
          "output_type": "execute_result",
          "data": {
            "text/plain": [
              "[('JG120561',), ('JG116014',), ('JG115458',), ('JG119465',), ('JG121264',)]"
            ],
            "text/html": [
              "<table>\n",
              "    <thead>\n",
              "        <tr>\n",
              "            <th>case_number</th>\n",
              "        </tr>\n",
              "    </thead>\n",
              "    <tbody>\n",
              "        <tr>\n",
              "            <td>JG120561</td>\n",
              "        </tr>\n",
              "        <tr>\n",
              "            <td>JG116014</td>\n",
              "        </tr>\n",
              "        <tr>\n",
              "            <td>JG115458</td>\n",
              "        </tr>\n",
              "        <tr>\n",
              "            <td>JG119465</td>\n",
              "        </tr>\n",
              "        <tr>\n",
              "            <td>JG121264</td>\n",
              "        </tr>\n",
              "    </tbody>\n",
              "</table>"
            ]
          },
          "metadata": {},
          "execution_count": 123
        }
      ]
    },
    {
      "cell_type": "markdown",
      "source": [
        "#Problem 5\n",
        "What kind of crimes were recorded at schools?"
      ],
      "metadata": {
        "id": "QMWUcdMIciAy"
      }
    },
    {
      "cell_type": "code",
      "source": [
        "%sql SELECT Primary_type FROM crime_data WHERE location_description LIKE '%school%'"
      ],
      "metadata": {
        "colab": {
          "base_uri": "https://localhost:8080/",
          "height": 139
        },
        "id": "O6Ke8QTlLxLB",
        "outputId": "9ff1a3f9-4162-41fc-d47f-31c2f3919eba"
      },
      "execution_count": 214,
      "outputs": [
        {
          "output_type": "stream",
          "name": "stdout",
          "text": [
            " * sqlite:///SQLiteMagic.db\n",
            "Done.\n"
          ]
        },
        {
          "output_type": "execute_result",
          "data": {
            "text/plain": [
              "[('THEFT',), ('THEFT',), ('BATTERY',)]"
            ],
            "text/html": [
              "<table>\n",
              "    <thead>\n",
              "        <tr>\n",
              "            <th>primary_type</th>\n",
              "        </tr>\n",
              "    </thead>\n",
              "    <tbody>\n",
              "        <tr>\n",
              "            <td>THEFT</td>\n",
              "        </tr>\n",
              "        <tr>\n",
              "            <td>THEFT</td>\n",
              "        </tr>\n",
              "        <tr>\n",
              "            <td>BATTERY</td>\n",
              "        </tr>\n",
              "    </tbody>\n",
              "</table>"
            ]
          },
          "metadata": {},
          "execution_count": 214
        }
      ]
    },
    {
      "cell_type": "markdown",
      "source": [
        "#Problem 6\n",
        "List the average safety score for all types of schools"
      ],
      "metadata": {
        "id": "vSPmNaeZV0lT"
      }
    },
    {
      "cell_type": "code",
      "source": [
        "%%sql \n",
        "SELECT 'elementary_or_high_school' , AVG(safety_score) FROM chicago_schools_data\n",
        "GROUP BY 'elementary_or_high_school'"
      ],
      "metadata": {
        "colab": {
          "base_uri": "https://localhost:8080/",
          "height": 96
        },
        "id": "-Q_aWamuMYuS",
        "outputId": "82f94795-3b58-47cf-c518-3f33cdeee162"
      },
      "execution_count": 213,
      "outputs": [
        {
          "output_type": "stream",
          "name": "stdout",
          "text": [
            " * sqlite:///SQLiteMagic.db\n",
            "Done.\n"
          ]
        },
        {
          "output_type": "execute_result",
          "data": {
            "text/plain": [
              "[('elementary_or_high_school', 49.50487329434698)]"
            ],
            "text/html": [
              "<table>\n",
              "    <thead>\n",
              "        <tr>\n",
              "            <th>&#x27;elementary_or_high_school&#x27;</th>\n",
              "            <th>AVG(safety_score)</th>\n",
              "        </tr>\n",
              "    </thead>\n",
              "    <tbody>\n",
              "        <tr>\n",
              "            <td>elementary_or_high_school</td>\n",
              "            <td>49.50487329434698</td>\n",
              "        </tr>\n",
              "    </tbody>\n",
              "</table>"
            ]
          },
          "metadata": {},
          "execution_count": 213
        }
      ]
    },
    {
      "cell_type": "markdown",
      "source": [
        "#Problem 7\n",
        "List 5 community areas with highest % of households bellow poverty line"
      ],
      "metadata": {
        "id": "rBtXlUS1QuCR"
      }
    },
    {
      "cell_type": "code",
      "source": [
        "%%sql \n",
        "SELECT community_area_name, percent_households_below_poverty FROM census_data\n",
        "ORDER BY percent_households_below_poverty DESC LIMIT 5"
      ],
      "metadata": {
        "colab": {
          "base_uri": "https://localhost:8080/",
          "height": 182
        },
        "id": "FCyrF3POQmVR",
        "outputId": "1e21a616-867d-49f2-ab8e-715111a46042"
      },
      "execution_count": 184,
      "outputs": [
        {
          "output_type": "stream",
          "name": "stdout",
          "text": [
            " * sqlite:///SQLiteMagic.db\n",
            "Done.\n"
          ]
        },
        {
          "output_type": "execute_result",
          "data": {
            "text/plain": [
              "[('Riverdale', 56.5),\n",
              " ('Fuller Park', 51.2),\n",
              " ('Englewood', 46.6),\n",
              " ('North Lawndale', 43.1),\n",
              " ('East Garfield Park', 42.4)]"
            ],
            "text/html": [
              "<table>\n",
              "    <thead>\n",
              "        <tr>\n",
              "            <th>community_area_name</th>\n",
              "            <th>percent_households_below_poverty</th>\n",
              "        </tr>\n",
              "    </thead>\n",
              "    <tbody>\n",
              "        <tr>\n",
              "            <td>Riverdale</td>\n",
              "            <td>56.5</td>\n",
              "        </tr>\n",
              "        <tr>\n",
              "            <td>Fuller Park</td>\n",
              "            <td>51.2</td>\n",
              "        </tr>\n",
              "        <tr>\n",
              "            <td>Englewood</td>\n",
              "            <td>46.6</td>\n",
              "        </tr>\n",
              "        <tr>\n",
              "            <td>North Lawndale</td>\n",
              "            <td>43.1</td>\n",
              "        </tr>\n",
              "        <tr>\n",
              "            <td>East Garfield Park</td>\n",
              "            <td>42.4</td>\n",
              "        </tr>\n",
              "    </tbody>\n",
              "</table>"
            ]
          },
          "metadata": {},
          "execution_count": 184
        }
      ]
    },
    {
      "cell_type": "markdown",
      "source": [
        "#Problem 8\n",
        "Which community area is most crime prone?"
      ],
      "metadata": {
        "id": "QGBdCctnS0Hp"
      }
    },
    {
      "cell_type": "code",
      "source": [
        "%%sql \n",
        "SELECT community_area, COUNT(*) AS frecuency FROM crime_data\n",
        "GROUP BY community_area ORDER BY frecuency DESC LIMIT 1"
      ],
      "metadata": {
        "colab": {
          "base_uri": "https://localhost:8080/",
          "height": 96
        },
        "id": "TCtezGaUSz0R",
        "outputId": "1269f57a-6271-4aa5-fcff-8a8f42803f2b"
      },
      "execution_count": 195,
      "outputs": [
        {
          "output_type": "stream",
          "name": "stdout",
          "text": [
            " * sqlite:///SQLiteMagic.db\n",
            "Done.\n"
          ]
        },
        {
          "output_type": "execute_result",
          "data": {
            "text/plain": [
              "[(25, 63)]"
            ],
            "text/html": [
              "<table>\n",
              "    <thead>\n",
              "        <tr>\n",
              "            <th>community_area</th>\n",
              "            <th>frecuency</th>\n",
              "        </tr>\n",
              "    </thead>\n",
              "    <tbody>\n",
              "        <tr>\n",
              "            <td>25</td>\n",
              "            <td>63</td>\n",
              "        </tr>\n",
              "    </tbody>\n",
              "</table>"
            ]
          },
          "metadata": {},
          "execution_count": 195
        }
      ]
    },
    {
      "cell_type": "markdown",
      "source": [
        "#Problem 9\n",
        "Use a sub-query to find the name of the community area highest hardship index"
      ],
      "metadata": {
        "id": "2NcKeo8rXrwx"
      }
    },
    {
      "cell_type": "code",
      "source": [
        "%%sql \n",
        "SELECT community_area_name FROM census_data WHERE hardship_index = (SELECT max(hardship_index) FROM census_data)"
      ],
      "metadata": {
        "colab": {
          "base_uri": "https://localhost:8080/",
          "height": 96
        },
        "id": "TV839st0X4my",
        "outputId": "ff673892-d2e2-4319-e498-dc567ddadca6"
      },
      "execution_count": 196,
      "outputs": [
        {
          "output_type": "stream",
          "name": "stdout",
          "text": [
            " * sqlite:///SQLiteMagic.db\n",
            "Done.\n"
          ]
        },
        {
          "output_type": "execute_result",
          "data": {
            "text/plain": [
              "[('Riverdale',)]"
            ],
            "text/html": [
              "<table>\n",
              "    <thead>\n",
              "        <tr>\n",
              "            <th>community_area_name</th>\n",
              "        </tr>\n",
              "    </thead>\n",
              "    <tbody>\n",
              "        <tr>\n",
              "            <td>Riverdale</td>\n",
              "        </tr>\n",
              "    </tbody>\n",
              "</table>"
            ]
          },
          "metadata": {},
          "execution_count": 196
        }
      ]
    },
    {
      "cell_type": "markdown",
      "source": [
        "#Problem 10\n",
        "Use a subquery to determine the community Area Name with most number of crime"
      ],
      "metadata": {
        "id": "_AgTjlCIYiRS"
      }
    },
    {
      "cell_type": "code",
      "source": [
        "%%sql \n",
        "SELECT community_area_name FROM census_data WHERE ca = (\n",
        "SELECT community_area FROM crime_data\n",
        "WHERE ca = 25 LIMIT 1)"
      ],
      "metadata": {
        "colab": {
          "base_uri": "https://localhost:8080/",
          "height": 75
        },
        "id": "eA8zE4cUYSYp",
        "outputId": "1f218f8f-cde4-452b-f7fa-6fd63f185cb2"
      },
      "execution_count": 211,
      "outputs": [
        {
          "output_type": "stream",
          "name": "stdout",
          "text": [
            " * sqlite:///SQLiteMagic.db\n",
            "Done.\n"
          ]
        },
        {
          "output_type": "execute_result",
          "data": {
            "text/plain": [
              "[]"
            ],
            "text/html": [
              "<table>\n",
              "    <thead>\n",
              "        <tr>\n",
              "            <th>community_area_name</th>\n",
              "        </tr>\n",
              "    </thead>\n",
              "    <tbody>\n",
              "    </tbody>\n",
              "</table>"
            ]
          },
          "metadata": {},
          "execution_count": 211
        }
      ]
    }
  ]
}